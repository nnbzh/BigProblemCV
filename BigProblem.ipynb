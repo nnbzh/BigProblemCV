{
 "cells": [
  {
   "cell_type": "code",
   "execution_count": 27,
   "metadata": {},
   "outputs": [
    {
     "ename": "TypeError",
     "evalue": "nothing() takes 0 positional arguments but 1 was given",
     "output_type": "error",
     "traceback": [
      "\u001b[1;31m---------------------------------------------------------------------------\u001b[0m",
      "\u001b[1;31mTypeError\u001b[0m                                 Traceback (most recent call last)",
      "\u001b[1;31mTypeError\u001b[0m: nothing() takes 0 positional arguments but 1 was given"
     ]
    },
    {
     "ename": "TypeError",
     "evalue": "nothing() takes 0 positional arguments but 1 was given",
     "output_type": "error",
     "traceback": [
      "\u001b[1;31m---------------------------------------------------------------------------\u001b[0m",
      "\u001b[1;31mTypeError\u001b[0m                                 Traceback (most recent call last)",
      "\u001b[1;31mTypeError\u001b[0m: nothing() takes 0 positional arguments but 1 was given"
     ]
    },
    {
     "ename": "TypeError",
     "evalue": "nothing() takes 0 positional arguments but 1 was given",
     "output_type": "error",
     "traceback": [
      "\u001b[1;31m---------------------------------------------------------------------------\u001b[0m",
      "\u001b[1;31mTypeError\u001b[0m                                 Traceback (most recent call last)",
      "\u001b[1;31mTypeError\u001b[0m: nothing() takes 0 positional arguments but 1 was given"
     ]
    },
    {
     "ename": "TypeError",
     "evalue": "nothing() takes 0 positional arguments but 1 was given",
     "output_type": "error",
     "traceback": [
      "\u001b[1;31m---------------------------------------------------------------------------\u001b[0m",
      "\u001b[1;31mTypeError\u001b[0m                                 Traceback (most recent call last)",
      "\u001b[1;31mTypeError\u001b[0m: nothing() takes 0 positional arguments but 1 was given"
     ]
    },
    {
     "ename": "TypeError",
     "evalue": "nothing() takes 0 positional arguments but 1 was given",
     "output_type": "error",
     "traceback": [
      "\u001b[1;31m---------------------------------------------------------------------------\u001b[0m",
      "\u001b[1;31mTypeError\u001b[0m                                 Traceback (most recent call last)",
      "\u001b[1;31mTypeError\u001b[0m: nothing() takes 0 positional arguments but 1 was given"
     ]
    },
    {
     "ename": "TypeError",
     "evalue": "nothing() takes 0 positional arguments but 1 was given",
     "output_type": "error",
     "traceback": [
      "\u001b[1;31m---------------------------------------------------------------------------\u001b[0m",
      "\u001b[1;31mTypeError\u001b[0m                                 Traceback (most recent call last)",
      "\u001b[1;31mTypeError\u001b[0m: nothing() takes 0 positional arguments but 1 was given"
     ]
    },
    {
     "ename": "TypeError",
     "evalue": "nothing() takes 0 positional arguments but 1 was given",
     "output_type": "error",
     "traceback": [
      "\u001b[1;31m---------------------------------------------------------------------------\u001b[0m",
      "\u001b[1;31mTypeError\u001b[0m                                 Traceback (most recent call last)",
      "\u001b[1;31mTypeError\u001b[0m: nothing() takes 0 positional arguments but 1 was given"
     ]
    },
    {
     "ename": "TypeError",
     "evalue": "nothing() takes 0 positional arguments but 1 was given",
     "output_type": "error",
     "traceback": [
      "\u001b[1;31m---------------------------------------------------------------------------\u001b[0m",
      "\u001b[1;31mTypeError\u001b[0m                                 Traceback (most recent call last)",
      "\u001b[1;31mTypeError\u001b[0m: nothing() takes 0 positional arguments but 1 was given"
     ]
    }
   ],
   "source": [
    "import numpy as np\n",
    "import cv2\n",
    "import matplotlib.pyplot as plt\n",
    "\n",
    "def nothing():\n",
    "    pass\n",
    "\n",
    "cv2.namedWindow(\"MainPage\", cv2.WINDOW_FULLSCREEN)\n",
    "cv2.createTrackbar(\"Rectangles\", \"MainPage\", 0,1, nothing)\n",
    "cv2.createTrackbar(\"Triangles\", \"MainPage\", 0,1, nothing)\n",
    "cv2.createTrackbar(\"Ellipses\", \"MainPage\", 0,1, nothing)\n",
    "\n",
    "def drawCont(x,y,approx):\n",
    "    cv2.drawContours(img, [approx], 0, (50,100,255), 3)\n",
    "    cv2.putText(img, \"Here\", (x-20,y), cv2.FONT_HERSHEY_COMPLEX, 0.5, (0,0,0))\n",
    "\n",
    "while True:\n",
    "    img = cv2.imread('appl2.jpg')\n",
    "    img = cv2.resize(img,(350,350))\n",
    "    imgGrey = cv2.cvtColor(img,cv2.COLOR_BGR2GRAY)\n",
    "    _,thrash = cv2.threshold(imgGrey, 220,250, cv2.THRESH_BINARY)\n",
    "    contours,_ = cv2.findContours(thrash, cv2.RETR_TREE, cv2.CHAIN_APPROX_SIMPLE)\n",
    "    \n",
    "    triangle = cv2.getTrackbarPos(\"Triangles\", \"MainPage\")\n",
    "    rectangle = cv2.getTrackbarPos(\"Rectangles\", \"MainPage\")\n",
    "    ellipse = cv2.getTrackbarPos(\"Ellipses\", \"MainPage\")\n",
    "    \n",
    "    for cnt in contours:\n",
    "        area = cv2.contourArea(cnt);\n",
    "        approx = cv2.approxPolyDP(cnt, 0.01*cv2.arcLength(cnt, True), True)\n",
    "        x = approx.ravel()[0]\n",
    "        y = approx.ravel()[1]\n",
    "        if area > 400: \n",
    "            if triangle == 1:\n",
    "                rectangle = 0;\n",
    "                ellipse = 0;\n",
    "                if len(approx) == 3:\n",
    "                    drawCont(x,y,approx)\n",
    "            elif rectangle == 1:\n",
    "                triangle = 0;\n",
    "                ellipse = 0;\n",
    "                if len(approx) == 4:\n",
    "                    drawCont(x,y,approx)\n",
    "            elif ellipse == 1:\n",
    "                rectangle = 0;\n",
    "                triangle = 0;\n",
    "                if 6 < len(approx)<15:\n",
    "                    drawCont(x,y,approx)\n",
    "    cv2.imshow(\"MainPage\", img)    \n",
    "    key = cv2.waitKey(1)\n",
    "    if key == 27:\n",
    "        break\n",
    "cv2.waitKey(0)\n",
    "cv2.destroyAllWindows()"
   ]
  }
 ],
 "metadata": {
  "kernelspec": {
   "display_name": "Python 3",
   "language": "python",
   "name": "python3"
  },
  "language_info": {
   "codemirror_mode": {
    "name": "ipython",
    "version": 3
   },
   "file_extension": ".py",
   "mimetype": "text/x-python",
   "name": "python",
   "nbconvert_exporter": "python",
   "pygments_lexer": "ipython3",
   "version": "3.7.4"
  },
  "pycharm": {
   "stem_cell": {
    "cell_type": "raw",
    "metadata": {
     "collapsed": false
    },
    "source": []
   }
  }
 },
 "nbformat": 4,
 "nbformat_minor": 2
}
